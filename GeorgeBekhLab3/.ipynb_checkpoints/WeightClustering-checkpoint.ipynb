{
 "cells": [
  {
   "cell_type": "code",
   "execution_count": 1,
   "id": "80d58a2e",
   "metadata": {},
   "outputs": [],
   "source": [
    "import torch\n",
    "from ultralytics import YOLO\n",
    "import numpy as np"
   ]
  },
  {
   "cell_type": "code",
   "execution_count": 10,
   "id": "fdfef795",
   "metadata": {},
   "outputs": [],
   "source": [
    "model = YOLO('yolov8n')"
   ]
  },
  {
   "cell_type": "code",
   "execution_count": null,
   "id": "b23ca6b4",
   "metadata": {},
   "outputs": [],
   "source": []
  },
  {
   "cell_type": "code",
   "execution_count": null,
   "id": "7d27d33c",
   "metadata": {},
   "outputs": [],
   "source": []
  },
  {
   "cell_type": "code",
   "execution_count": 126,
   "id": "05942259",
   "metadata": {},
   "outputs": [],
   "source": [
    "weights_raw = []\n",
    "weights_indexed_tensors = []\n",
    "weights_indexed_centroids = []\n",
    "clustered_weights = []\n",
    "for name, weights in model.named_parameters():\n",
    "    cluster_centers = np.linspace(float(weights.min()), float(weights.max()), 9)\n",
    "    tmp_weights = np.expand_dims(np.array(weights), axis = 0)\n",
    "    weights_distance = tmp_weights + 10**10\n",
    "    \n",
    "    for cluster_center in cluster_centers:\n",
    "        weights_distance = np.vstack((weights_distance, np.abs(tmp_weights - cluster_center) ))\n",
    "    \n",
    "\n",
    "    weights_indexed_tensors.append(np.argmin(weights_distance, axis = 0) - 1)\n",
    "    weights_indexed_centroids.append(cluster_centers)\n",
    "    weights_raw.append(tmp_weights.squeeze())\n",
    "    \n",
    "        "
   ]
  },
  {
   "cell_type": "code",
   "execution_count": 127,
   "id": "b24a137b",
   "metadata": {},
   "outputs": [
    {
     "data": {
      "text/plain": [
       "array([[[   -0.11523,   -0.010582,     0.10693],\n",
       "        [   -0.36816,    0.033447,     0.38745],\n",
       "        [   -0.33716,    -0.01368,     0.31201]],\n",
       "\n",
       "       [[   -0.14233,   0.0097656,     0.15222],\n",
       "        [   -0.48999,    0.027908,     0.46021],\n",
       "        [   -0.37256,  -0.0027542,     0.34814]],\n",
       "\n",
       "       [[  -0.049866,     -0.0149,    0.024887],\n",
       "        [   -0.21375,    0.032898,     0.19385],\n",
       "        [   -0.15344,    0.031113,     0.15649]]], dtype=float32)"
      ]
     },
     "execution_count": 127,
     "metadata": {},
     "output_type": "execute_result"
    }
   ],
   "source": [
    "weights_raw[0][0]"
   ]
  },
  {
   "cell_type": "code",
   "execution_count": 128,
   "id": "ff724b72",
   "metadata": {},
   "outputs": [
    {
     "data": {
      "text/plain": [
       "array([[[3, 4, 5],\n",
       "        [1, 4, 7],\n",
       "        [1, 4, 7]],\n",
       "\n",
       "       [[3, 4, 5],\n",
       "        [0, 4, 8],\n",
       "        [1, 4, 7]],\n",
       "\n",
       "       [[4, 4, 4],\n",
       "        [2, 4, 6],\n",
       "        [3, 4, 5]]], dtype=int64)"
      ]
     },
     "execution_count": 128,
     "metadata": {},
     "output_type": "execute_result"
    }
   ],
   "source": [
    "weights_indexed_tensors[0][0]"
   ]
  },
  {
   "cell_type": "code",
   "execution_count": 121,
   "id": "edcbf282",
   "metadata": {},
   "outputs": [
    {
     "data": {
      "text/plain": [
       "array([   -0.51074,    -0.38596,    -0.26117,    -0.13638,   -0.011597,     0.11319,     0.23798,     0.36276,     0.48755])"
      ]
     },
     "execution_count": 121,
     "metadata": {},
     "output_type": "execute_result"
    }
   ],
   "source": [
    "weights_indexed_centroids[0]"
   ]
  },
  {
   "cell_type": "code",
   "execution_count": null,
   "id": "3b223f9e",
   "metadata": {},
   "outputs": [],
   "source": []
  },
  {
   "cell_type": "code",
   "execution_count": null,
   "id": "87aadc92",
   "metadata": {},
   "outputs": [],
   "source": []
  },
  {
   "cell_type": "code",
   "execution_count": null,
   "id": "679d3b57",
   "metadata": {},
   "outputs": [],
   "source": []
  },
  {
   "cell_type": "code",
   "execution_count": null,
   "id": "ebc8078f",
   "metadata": {},
   "outputs": [],
   "source": []
  },
  {
   "cell_type": "code",
   "execution_count": null,
   "id": "161a4800",
   "metadata": {},
   "outputs": [],
   "source": []
  }
 ],
 "metadata": {
  "kernelspec": {
   "display_name": "Python 3 (ipykernel)",
   "language": "python",
   "name": "python3"
  },
  "language_info": {
   "codemirror_mode": {
    "name": "ipython",
    "version": 3
   },
   "file_extension": ".py",
   "mimetype": "text/x-python",
   "name": "python",
   "nbconvert_exporter": "python",
   "pygments_lexer": "ipython3",
   "version": "3.11.4"
  }
 },
 "nbformat": 4,
 "nbformat_minor": 5
}
