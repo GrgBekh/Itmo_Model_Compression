{
 "cells": [
  {
   "cell_type": "markdown",
   "id": "6c7a19ab-f531-47eb-8f0f-1b0cf2ec03d7",
   "metadata": {},
   "source": [
    "## ДЗ 2:\n",
    "### Методы снижения размерности. Квантизация"
   ]
  },
  {
   "cell_type": "code",
   "execution_count": 3,
   "id": "a8a751d9",
   "metadata": {},
   "outputs": [],
   "source": [
    "import ultralytics\n",
    "from ultralytics import YOLO"
   ]
  },
  {
   "cell_type": "code",
   "execution_count": 4,
   "id": "70e60232",
   "metadata": {},
   "outputs": [],
   "source": [
    "import torch\n",
    "import time\n",
    "import torch.quantization\n",
    "from torch import profiler\n",
    "from torch.profiler import profile, record_function, ProfilerActivity"
   ]
  },
  {
   "cell_type": "code",
   "execution_count": 5,
   "id": "500f89d9-cf66-4809-b2bb-25c441e3a58f",
   "metadata": {},
   "outputs": [],
   "source": [
    "torch.seed = 42"
   ]
  },
  {
   "cell_type": "code",
   "execution_count": 7,
   "id": "0e5363eb-a229-473a-bac5-7357b9daaa9c",
   "metadata": {},
   "outputs": [],
   "source": [
    "def get_model_size(model: torch.nn.Module) -> float:\n",
    "    \"\"\"return model size im mb\"\"\"\n",
    "    param_size = 0\n",
    "    for param in model.parameters():\n",
    "        param_size += param.nelement() * param.element_size()\n",
    "    buffer_size = 0\n",
    "    for buffer in model.buffers():\n",
    "        buffer_size += buffer.nelement() * buffer.element_size()\n",
    "\n",
    "    return (param_size + buffer_size) / 1024**2"
   ]
  },
  {
   "cell_type": "code",
   "execution_count": 8,
   "id": "dbf69b20",
   "metadata": {},
   "outputs": [],
   "source": [
    "def profile_model(model, input_example: torch.Tensor = torch.randn(1, 3, 224, 224)):\n",
    "    device = torch.device(\"cuda\" if torch.cuda.is_available() else \"cpu\")\n",
    "    model = model.to(device)\n",
    "    input_example = input_example.to(device)\n",
    "\n",
    "    # cold run\n",
    "    for _ in range(3):\n",
    "        model(input_example)\n",
    "\n",
    "    with profile(activities=[ProfilerActivity.CPU], profile_memory=True, with_flops=True) as prof:\n",
    "        with record_function(\"model_inference\"):\n",
    "            with torch.inference_mode():\n",
    "                model(input_example)\n",
    "\n",
    "    profiling_info = prof.key_averages().table(sort_by=\"cpu_time_total\", row_limit=1)\n",
    "    return profiling_info"
   ]
  },
  {
   "cell_type": "markdown",
   "id": "01001f1d",
   "metadata": {},
   "source": [
    "### Исходная модель"
   ]
  },
  {
   "cell_type": "code",
   "execution_count": 9,
   "id": "dc343a0f",
   "metadata": {},
   "outputs": [
    {
     "name": "stderr",
     "output_type": "stream",
     "text": [
      "[W NNPACK.cpp:64] Could not initialize NNPACK! Reason: Unsupported hardware.\n",
      "YOLOv8x summary (fused): 268 layers, 68200608 parameters, 0 gradients, 257.8 GFLOPs\n"
     ]
    },
    {
     "name": "stdout",
     "output_type": "stream",
     "text": [
      "\n"
     ]
    }
   ],
   "source": [
    "yolo = YOLO('yolov8x.pt')\n",
    "model = yolo.model\n",
    "model.fuse()\n",
    "model.eval()\n",
    "print()"
   ]
  },
  {
   "cell_type": "code",
   "execution_count": 10,
   "id": "9e5d9daf",
   "metadata": {
    "scrolled": true
   },
   "outputs": [
    {
     "name": "stderr",
     "output_type": "stream",
     "text": [
      "STAGE:2023-10-09 21:12:01 34686:1733284 ActivityProfilerController.cpp:311] Completed Stage: Warm Up\n"
     ]
    },
    {
     "name": "stdout",
     "output_type": "stream",
     "text": [
      "---------------------------------  ------------  ------------  ------------  ------------  ------------  ------------  ------------  ------------  ------------  \n",
      "                             Name    Self CPU %      Self CPU   CPU total %     CPU total  CPU time avg       CPU Mem  Self CPU Mem    # of Calls  Total KFLOPs  \n",
      "---------------------------------  ------------  ------------  ------------  ------------  ------------  ------------  ------------  ------------  ------------  \n",
      "                  model_inference        -0.77%   -6267.000us       100.00%     815.282ms     815.282ms           0 b     -77.18 Mb             1            --  \n",
      "---------------------------------  ------------  ------------  ------------  ------------  ------------  ------------  ------------  ------------  ------------  \n",
      "Self CPU time total: 815.282ms\n",
      "\n",
      "model size: 260.1646728515625\n"
     ]
    },
    {
     "name": "stderr",
     "output_type": "stream",
     "text": [
      "STAGE:2023-10-09 21:12:02 34686:1733284 ActivityProfilerController.cpp:317] Completed Stage: Collection\n",
      "STAGE:2023-10-09 21:12:02 34686:1733284 ActivityProfilerController.cpp:321] Completed Stage: Post Processing\n"
     ]
    }
   ],
   "source": [
    "print(profile_model(model))\n",
    "print(f'model size: {get_model_size(model)}')"
   ]
  },
  {
   "cell_type": "markdown",
   "id": "97f39fef",
   "metadata": {},
   "source": [
    "### Динамическая квантизация"
   ]
  },
  {
   "cell_type": "code",
   "execution_count": 13,
   "id": "f010cc9b",
   "metadata": {},
   "outputs": [],
   "source": [
    "dynamic_quantized_model = torch.quantization.quantize_dynamic(model, dtype=torch.qint8)"
   ]
  },
  {
   "cell_type": "code",
   "execution_count": 14,
   "id": "f5bcb414",
   "metadata": {},
   "outputs": [
    {
     "name": "stderr",
     "output_type": "stream",
     "text": [
      "STAGE:2023-10-09 21:13:27 34686:1733284 ActivityProfilerController.cpp:311] Completed Stage: Warm Up\n"
     ]
    },
    {
     "name": "stdout",
     "output_type": "stream",
     "text": [
      "---------------------------------  ------------  ------------  ------------  ------------  ------------  ------------  ------------  ------------  ------------  \n",
      "                             Name    Self CPU %      Self CPU   CPU total %     CPU total  CPU time avg       CPU Mem  Self CPU Mem    # of Calls  Total KFLOPs  \n",
      "---------------------------------  ------------  ------------  ------------  ------------  ------------  ------------  ------------  ------------  ------------  \n",
      "                  model_inference        -1.52%  -12462.000us       100.00%     820.687ms     820.687ms           0 b     -76.85 Mb             1            --  \n",
      "---------------------------------  ------------  ------------  ------------  ------------  ------------  ------------  ------------  ------------  ------------  \n",
      "Self CPU time total: 820.687ms\n",
      "\n",
      "model size: 260.1646728515625\n"
     ]
    },
    {
     "name": "stderr",
     "output_type": "stream",
     "text": [
      "STAGE:2023-10-09 21:13:28 34686:1733284 ActivityProfilerController.cpp:317] Completed Stage: Collection\n",
      "STAGE:2023-10-09 21:13:28 34686:1733284 ActivityProfilerController.cpp:321] Completed Stage: Post Processing\n"
     ]
    }
   ],
   "source": [
    "print(profile_model(dynamic_quantized_model))\n",
    "print(f'model size: {get_model_size(dynamic_quantized_model)}')"
   ]
  }
 ],
 "metadata": {
  "kernelspec": {
   "display_name": "Python 3 (ipykernel)",
   "language": "python",
   "name": "python3"
  },
  "language_info": {
   "codemirror_mode": {
    "name": "ipython",
    "version": 3
   },
   "file_extension": ".py",
   "mimetype": "text/x-python",
   "name": "python",
   "nbconvert_exporter": "python",
   "pygments_lexer": "ipython3",
   "version": "3.8.0"
  }
 },
 "nbformat": 4,
 "nbformat_minor": 5
}
