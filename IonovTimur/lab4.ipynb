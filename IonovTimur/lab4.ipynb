{
 "cells": [
  {
   "cell_type": "markdown",
   "id": "255a6ed4",
   "metadata": {},
   "source": [
    "## ДЗ 4:\n",
    "### Кластеризация весов"
   ]
  },
  {
   "cell_type": "code",
   "execution_count": 1,
   "id": "0bd32339",
   "metadata": {},
   "outputs": [],
   "source": [
    "import ultralytics\n",
    "from ultralytics import YOLO"
   ]
  },
  {
   "cell_type": "code",
   "execution_count": 2,
   "id": "4ceb8486",
   "metadata": {},
   "outputs": [],
   "source": [
    "import torch\n",
    "import time\n",
    "import torch.quantization\n",
    "from torch import profiler\n",
    "from torch.profiler import profile, record_function, ProfilerActivity\n",
    "import matplotlib.pyplot as plt"
   ]
  },
  {
   "cell_type": "code",
   "execution_count": 3,
   "id": "3723b998",
   "metadata": {},
   "outputs": [],
   "source": [
    "torch.seed = 42"
   ]
  },
  {
   "cell_type": "code",
   "execution_count": 4,
   "id": "6dfda8de",
   "metadata": {},
   "outputs": [],
   "source": [
    "def get_model_size(model: torch.nn.Module) -> float:\n",
    "    \"\"\"return model size im mb\"\"\"\n",
    "    param_size = 0\n",
    "    for param in model.parameters():\n",
    "        param_size += param.nelement() * param.element_size()\n",
    "    buffer_size = 0\n",
    "    for buffer in model.buffers():\n",
    "        buffer_size += buffer.nelement() * buffer.element_size()\n",
    "\n",
    "    return (param_size + buffer_size) / 1024**2"
   ]
  },
  {
   "cell_type": "code",
   "execution_count": 5,
   "id": "26f7eef6",
   "metadata": {},
   "outputs": [],
   "source": [
    "def profile_model(model, input_example: torch.Tensor = torch.randn(1, 3, 224, 224)):\n",
    "    device = torch.device(\"cuda\" if torch.cuda.is_available() else \"cpu\")\n",
    "    model = model.to(device)\n",
    "    input_example = input_example.to(device)\n",
    "\n",
    "    # cold run\n",
    "    for _ in range(3):\n",
    "        model(input_example)\n",
    "\n",
    "    with profile(activities=[ProfilerActivity.CPU], profile_memory=True, with_flops=True) as prof:\n",
    "        with record_function(\"model_inference\"):\n",
    "            with torch.inference_mode():\n",
    "                model(input_example)\n",
    "\n",
    "    profiling_info = prof.key_averages().table(sort_by=\"cpu_time_total\", row_limit=1)\n",
    "    return profiling_info"
   ]
  },
  {
   "cell_type": "markdown",
   "id": "7aafdf19",
   "metadata": {},
   "source": [
    "### Исходная модель"
   ]
  },
  {
   "cell_type": "code",
   "execution_count": 6,
   "id": "9bf6ac8d",
   "metadata": {},
   "outputs": [
    {
     "name": "stderr",
     "output_type": "stream",
     "text": [
      "[W NNPACK.cpp:64] Could not initialize NNPACK! Reason: Unsupported hardware.\n",
      "YOLOv8n summary (fused): 168 layers, 3151904 parameters, 0 gradients, 8.7 GFLOPs\n"
     ]
    },
    {
     "name": "stdout",
     "output_type": "stream",
     "text": [
      "\n"
     ]
    }
   ],
   "source": [
    "yolo = YOLO('yolov8n.pt')\n",
    "model = yolo.model\n",
    "model.fuse()\n",
    "model.eval()\n",
    "print()"
   ]
  },
  {
   "cell_type": "code",
   "execution_count": 7,
   "id": "861859bb",
   "metadata": {
    "scrolled": true
   },
   "outputs": [
    {
     "name": "stdout",
     "output_type": "stream",
     "text": [
      "---------------------------------  ------------  ------------  ------------  ------------  ------------  ------------  ------------  ------------  ------------  \n",
      "                             Name    Self CPU %      Self CPU   CPU total %     CPU total  CPU time avg       CPU Mem  Self CPU Mem    # of Calls  Total KFLOPs  \n",
      "---------------------------------  ------------  ------------  ------------  ------------  ------------  ------------  ------------  ------------  ------------  \n",
      "                  model_inference         7.56%       3.970ms       100.00%      52.508ms      52.508ms           0 b     -13.75 Mb             1            --  \n",
      "---------------------------------  ------------  ------------  ------------  ------------  ------------  ------------  ------------  ------------  ------------  \n",
      "Self CPU time total: 52.508ms\n",
      "\n",
      "model size: 12.0235595703125\n"
     ]
    },
    {
     "name": "stderr",
     "output_type": "stream",
     "text": [
      "STAGE:2023-10-13 13:27:15 77229:2817424 ActivityProfilerController.cpp:311] Completed Stage: Warm Up\n",
      "STAGE:2023-10-13 13:27:15 77229:2817424 ActivityProfilerController.cpp:317] Completed Stage: Collection\n",
      "STAGE:2023-10-13 13:27:15 77229:2817424 ActivityProfilerController.cpp:321] Completed Stage: Post Processing\n"
     ]
    }
   ],
   "source": [
    "print(profile_model(model))\n",
    "print(f'model size: {get_model_size(model)}')"
   ]
  },
  {
   "cell_type": "markdown",
   "id": "39b4f745",
   "metadata": {},
   "source": [
    "### Кластеризация весов"
   ]
  },
  {
   "cell_type": "code",
   "execution_count": 8,
   "id": "659b144b-c14a-40d5-a51f-d7d6964394b6",
   "metadata": {},
   "outputs": [],
   "source": [
    "import numpy as np\n",
    "import sklearn\n",
    "from sklearn.cluster import KMeans"
   ]
  },
  {
   "cell_type": "code",
   "execution_count": 10,
   "id": "a8e94590-90ce-4cde-acda-e8c4f1dd79a8",
   "metadata": {},
   "outputs": [],
   "source": [
    "def cluster_weights(weights):\n",
    "    for name, tensor in weights.items():\n",
    "        if 'weight' not in name:\n",
    "            continue  # пропустить тензоры, которые не связаны с весами\n",
    "        n = np.prod(tensor.shape)  # получить общее количество элементов в тензоре\n",
    "        arr = tensor.reshape(n,)  # преобразовать тензор в одномерный массив\n",
    "        kmeans = KMeans(n_init=10, init='random')  # инициализировать K-means со случайной инициализацией\n",
    "        kmeans.fit(arr.reshape(-1, 1))  # применить K-means\n",
    "        centroids = kmeans.cluster_centers_.squeeze()  # извлечь центроиды\n",
    "        dist = np.abs(arr - centroids[0])  # вычислить расстояния до первого центроида\n",
    "        for i in range(1, len(centroids)):\n",
    "            dist = np.vstack((dist, np.abs(arr - centroids[i])))  # вычислить расстояния до остальных центроидов\n",
    "        args_of_cent = dist.argmin(axis=0)  # найти ближайший центроид для каждого элемента\n",
    "        arr = centroids[args_of_cent]  # заменить каждый элемент его ближайшим центроидом\n",
    "        weights[name] = torch.Tensor(arr.reshape(tensor.shape))  # обновить тензор весов\n",
    "    return weights"
   ]
  },
  {
   "cell_type": "code",
   "execution_count": 11,
   "id": "111f0792-eb08-4ad7-bec9-9cdc023d11c6",
   "metadata": {},
   "outputs": [],
   "source": [
    "weights = yolo.model.state_dict()"
   ]
  },
  {
   "cell_type": "code",
   "execution_count": 12,
   "id": "49900f87-b179-40de-8bfa-e69cffd0102f",
   "metadata": {},
   "outputs": [
    {
     "name": "stderr",
     "output_type": "stream",
     "text": [
      "/Users/timur/.pyenv/versions/3.8.0/lib/python3.8/site-packages/threadpoolctl.py:1019: RuntimeWarning: libc not found. The ctypes module in Python 3.8 is maybe too old for this OS.\n",
      "  warnings.warn(\n"
     ]
    }
   ],
   "source": [
    "weights_clustered = cluster_weights(weights)"
   ]
  },
  {
   "cell_type": "code",
   "execution_count": 13,
   "id": "cb5338c9-1d6d-403b-add0-a351430ebc78",
   "metadata": {},
   "outputs": [
    {
     "name": "stderr",
     "output_type": "stream",
     "text": [
      "YOLOv8n summary (fused): 168 layers, 3151904 parameters, 0 gradients, 8.7 GFLOPs\n"
     ]
    },
    {
     "name": "stdout",
     "output_type": "stream",
     "text": [
      "\n"
     ]
    }
   ],
   "source": [
    "clustered_yolo = YOLO('yolov8n.pt')\n",
    "clustered_model = clustered_yolo.model\n",
    "clustered_model.fuse()\n",
    "clustered_model.eval()\n",
    "print()"
   ]
  },
  {
   "cell_type": "code",
   "execution_count": 14,
   "id": "c37e2468-0092-4d44-97bc-5afb272aeac1",
   "metadata": {
    "scrolled": true
   },
   "outputs": [
    {
     "data": {
      "text/plain": [
       "<All keys matched successfully>"
      ]
     },
     "execution_count": 14,
     "metadata": {},
     "output_type": "execute_result"
    }
   ],
   "source": [
    "clustered_yolo.model.load_state_dict(weights_clustered)"
   ]
  },
  {
   "cell_type": "code",
   "execution_count": 15,
   "id": "cc6dbef0-0b45-4b22-acf2-d459e8eea71d",
   "metadata": {},
   "outputs": [],
   "source": [
    "torch.save(weights_clustered, 'weights_clustered.pt')"
   ]
  },
  {
   "cell_type": "code",
   "execution_count": 16,
   "id": "0728b07f-2ca7-450c-bada-7594303b26c5",
   "metadata": {},
   "outputs": [
    {
     "data": {
      "text/plain": [
       "<All keys matched successfully>"
      ]
     },
     "execution_count": 16,
     "metadata": {},
     "output_type": "execute_result"
    }
   ],
   "source": [
    "clustered_yolo.model.load_state_dict(torch.load('weights_clustered.pt'))"
   ]
  },
  {
   "cell_type": "code",
   "execution_count": 17,
   "id": "964bac13-6457-4876-8ce2-cb8090f7fa20",
   "metadata": {},
   "outputs": [
    {
     "name": "stdout",
     "output_type": "stream",
     "text": [
      "model with clustered weights\n",
      "---------------------------------  ------------  ------------  ------------  ------------  ------------  ------------  ------------  ------------  ------------  \n",
      "                             Name    Self CPU %      Self CPU   CPU total %     CPU total  CPU time avg       CPU Mem  Self CPU Mem    # of Calls  Total KFLOPs  \n",
      "---------------------------------  ------------  ------------  ------------  ------------  ------------  ------------  ------------  ------------  ------------  \n",
      "                  model_inference         1.72%     756.000us       100.00%      43.885ms      43.885ms           0 b     -13.68 Mb             1            --  \n",
      "---------------------------------  ------------  ------------  ------------  ------------  ------------  ------------  ------------  ------------  ------------  \n",
      "Self CPU time total: 43.885ms\n",
      "\n",
      "model size: 12.0235595703125\n"
     ]
    },
    {
     "name": "stderr",
     "output_type": "stream",
     "text": [
      "STAGE:2023-10-13 13:27:54 77229:2817424 ActivityProfilerController.cpp:311] Completed Stage: Warm Up\n",
      "STAGE:2023-10-13 13:27:54 77229:2817424 ActivityProfilerController.cpp:317] Completed Stage: Collection\n",
      "STAGE:2023-10-13 13:27:54 77229:2817424 ActivityProfilerController.cpp:321] Completed Stage: Post Processing\n"
     ]
    }
   ],
   "source": [
    "print('model with clustered weights')\n",
    "print(profile_model(model))\n",
    "print(f'model size: {get_model_size(model)}')"
   ]
  },
  {
   "cell_type": "code",
   "execution_count": null,
   "id": "9d6bc8ce-794e-45e9-977e-cfa5a98faa98",
   "metadata": {},
   "outputs": [],
   "source": []
  }
 ],
 "metadata": {
  "interpreter": {
   "hash": "7e1998ff7f8aa20ada591c520b972326324e5ea05489af9e422744c7c09f6dad"
  },
  "kernelspec": {
   "display_name": "Python 3 (ipykernel)",
   "language": "python",
   "name": "python3"
  },
  "language_info": {
   "codemirror_mode": {
    "name": "ipython",
    "version": 3
   },
   "file_extension": ".py",
   "mimetype": "text/x-python",
   "name": "python",
   "nbconvert_exporter": "python",
   "pygments_lexer": "ipython3",
   "version": "3.8.0"
  }
 },
 "nbformat": 4,
 "nbformat_minor": 5
}
