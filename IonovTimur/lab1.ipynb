{
 "cells": [
  {
   "cell_type": "markdown",
   "id": "aa9d589b",
   "metadata": {},
   "source": [
    "## ДЗ 1:\n",
    "### Разделиться на команды по 4 человека и выбрать модели для оптимизации, сделать базовые замеры метрик производительности"
   ]
  },
  {
   "cell_type": "code",
   "execution_count": 1,
   "id": "49d895ff",
   "metadata": {},
   "outputs": [],
   "source": [
    "import ultralytics\n",
    "from ultralytics import YOLO"
   ]
  },
  {
   "cell_type": "code",
   "execution_count": 2,
   "id": "ece7dad6",
   "metadata": {},
   "outputs": [],
   "source": [
    "import sys\n",
    "import os\n",
    "\n",
    "import torch\n",
    "import time\n",
    "import torch.quantization\n",
    "import torch\n",
    "from torch import profiler\n",
    "from torch.profiler import profile, record_function, ProfilerActivity"
   ]
  },
  {
   "cell_type": "code",
   "execution_count": 3,
   "id": "dd344d26",
   "metadata": {},
   "outputs": [],
   "source": [
    "torch.seed = 42"
   ]
  },
  {
   "cell_type": "code",
   "execution_count": 4,
   "id": "1dc10f49",
   "metadata": {},
   "outputs": [],
   "source": [
    "def get_model_size(model: torch.nn.Module) -> float:\n",
    "    \"\"\"return model size im mb\"\"\"\n",
    "    param_size = 0\n",
    "    for param in model.parameters():\n",
    "        param_size += param.nelement() * param.element_size()\n",
    "    buffer_size = 0\n",
    "    for buffer in model.buffers():\n",
    "        buffer_size += buffer.nelement() * buffer.element_size()\n",
    "\n",
    "    return (param_size + buffer_size) / 1024**2"
   ]
  },
  {
   "cell_type": "code",
   "execution_count": 5,
   "id": "7d28cae7",
   "metadata": {},
   "outputs": [],
   "source": [
    "def profile_model(model, input_example: torch.Tensor = torch.randn(1, 3, 224, 224)):\n",
    "    device = torch.device(\"cuda\" if torch.cuda.is_available() else \"cpu\")\n",
    "    model = model.to(device)\n",
    "    input_example = input_example.to(device)\n",
    "\n",
    "    # cold run\n",
    "    for _ in range(3):\n",
    "        model(input_example)\n",
    "\n",
    "    with profile(activities=[ProfilerActivity.CPU], profile_memory=True, with_flops=True) as prof:\n",
    "        with record_function(\"model_inference\"):\n",
    "            with torch.inference_mode():\n",
    "                model(input_example)\n",
    "\n",
    "    profiling_info = prof.key_averages().table(sort_by=\"cpu_time_total\", row_limit=1)\n",
    "    return profiling_info"
   ]
  },
  {
   "cell_type": "markdown",
   "id": "9e4aa55b",
   "metadata": {},
   "source": [
    "### Исходная модель"
   ]
  },
  {
   "cell_type": "code",
   "execution_count": 9,
   "id": "80cb46a4",
   "metadata": {},
   "outputs": [
    {
     "name": "stderr",
     "output_type": "stream",
     "text": [
      "Downloading https://github.com/ultralytics/assets/releases/download/v0.0.0/yolov8s.pt to 'yolov8s.pt'...\n",
      "100%|█████████████████████████████████████████████████████████| 21.5M/21.5M [00:51<00:00, 441kB/s]\n",
      "YOLOv8s summary (fused): 168 layers, 11156544 parameters, 0 gradients, 28.6 GFLOPs\n"
     ]
    },
    {
     "name": "stdout",
     "output_type": "stream",
     "text": [
      "\n"
     ]
    }
   ],
   "source": [
    "yolo = YOLO('yolov8s.pt')\n",
    "model = yolo.model\n",
    "model.fuse()\n",
    "model.eval()\n",
    "print()"
   ]
  },
  {
   "cell_type": "code",
   "execution_count": 11,
   "id": "48a48f8d",
   "metadata": {},
   "outputs": [
    {
     "name": "stderr",
     "output_type": "stream",
     "text": [
      "STAGE:2023-10-13 13:40:18 78198:2827091 ActivityProfilerController.cpp:311] Completed Stage: Warm Up\n",
      "STAGE:2023-10-13 13:40:18 78198:2827091 ActivityProfilerController.cpp:317] Completed Stage: Collection\n",
      "STAGE:2023-10-13 13:40:18 78198:2827091 ActivityProfilerController.cpp:321] Completed Stage: Post Processing\n"
     ]
    },
    {
     "name": "stdout",
     "output_type": "stream",
     "text": [
      "---------------------------------  ------------  ------------  ------------  ------------  ------------  ------------  ------------  ------------  ------------  \n",
      "                             Name    Self CPU %      Self CPU   CPU total %     CPU total  CPU time avg       CPU Mem  Self CPU Mem    # of Calls  Total KFLOPs  \n",
      "---------------------------------  ------------  ------------  ------------  ------------  ------------  ------------  ------------  ------------  ------------  \n",
      "                  model_inference        -7.13%   -7521.000us       100.00%     105.454ms     105.454ms           0 b     -24.76 Mb             1            --  \n",
      "---------------------------------  ------------  ------------  ------------  ------------  ------------  ------------  ------------  ------------  ------------  \n",
      "Self CPU time total: 105.454ms\n",
      "\n",
      "model size: 42.558837890625\n"
     ]
    }
   ],
   "source": [
    "print(profile_model(model))\n",
    "print(f'model size: {get_model_size(model)}')"
   ]
  },
  {
   "cell_type": "code",
   "execution_count": null,
   "id": "a0672ad8",
   "metadata": {},
   "outputs": [],
   "source": []
  }
 ],
 "metadata": {
  "kernelspec": {
   "display_name": "Python 3 (ipykernel)",
   "language": "python",
   "name": "python3"
  },
  "language_info": {
   "codemirror_mode": {
    "name": "ipython",
    "version": 3
   },
   "file_extension": ".py",
   "mimetype": "text/x-python",
   "name": "python",
   "nbconvert_exporter": "python",
   "pygments_lexer": "ipython3",
   "version": "3.8.0"
  }
 },
 "nbformat": 4,
 "nbformat_minor": 5
}
