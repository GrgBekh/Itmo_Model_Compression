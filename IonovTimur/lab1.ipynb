{
 "cells": [
  {
   "cell_type": "markdown",
   "source": [
    "## ДЗ 1:\n",
    "### Разделиться на команды по 4 человека и выбрать модели для оптимизации, сделать базовые замеры метрик производительности"
   ],
   "metadata": {}
  },
  {
   "cell_type": "code",
   "execution_count": 1,
   "source": [
    "import ultralytics\n",
    "from ultralytics import YOLO"
   ],
   "outputs": [],
   "metadata": {}
  },
  {
   "cell_type": "code",
   "execution_count": 2,
   "source": [
    "import sys\n",
    "import os\n",
    "\n",
    "import torch\n",
    "import time\n",
    "import torch.quantization\n",
    "import torch\n",
    "from torch import profiler\n",
    "from torch.profiler import profile, record_function, ProfilerActivity"
   ],
   "outputs": [],
   "metadata": {}
  },
  {
   "cell_type": "code",
   "execution_count": 3,
   "source": [
    "torch.seed = 42"
   ],
   "outputs": [],
   "metadata": {}
  },
  {
   "cell_type": "code",
   "execution_count": 4,
   "source": [
    "def get_model_size(model: torch.nn.Module) -> float:\n",
    "    \"\"\"return model size im mb\"\"\"\n",
    "    param_size = 0\n",
    "    for param in model.parameters():\n",
    "        param_size += param.nelement() * param.element_size()\n",
    "    buffer_size = 0\n",
    "    for buffer in model.buffers():\n",
    "        buffer_size += buffer.nelement() * buffer.element_size()\n",
    "\n",
    "    return (param_size + buffer_size) / 1024**2"
   ],
   "outputs": [],
   "metadata": {}
  },
  {
   "cell_type": "code",
   "execution_count": 16,
   "source": [
    "def profile_model(model, input_example: torch.Tensor = torch.randn(1, 3, 224, 224)):\n",
    "    device = torch.device(\"cuda\" if torch.cuda.is_available() else \"cpu\")\n",
    "    model = model.to(device)\n",
    "    input_example = input_example.to(device)\n",
    "\n",
    "    # cold run\n",
    "    for _ in range(3):\n",
    "        model(input_example)\n",
    "\n",
    "    with profile(activities=[ProfilerActivity.CPU], profile_memory=True, with_flops=True) as prof:\n",
    "        with record_function(\"model_inference\"):\n",
    "            with torch.inference_mode():\n",
    "                model(input_example)\n",
    "\n",
    "    profiling_info = prof.key_averages().table(sort_by=\"cpu_time_total\", row_limit=1)\n",
    "    return profiling_info"
   ],
   "outputs": [],
   "metadata": {}
  },
  {
   "cell_type": "markdown",
   "source": [
    "### Исходная модель"
   ],
   "metadata": {}
  },
  {
   "cell_type": "code",
   "execution_count": 17,
   "source": [
    "yolo = YOLO('yolov8x.pt')\n",
    "model = yolo.model\n",
    "model.fuse()\n",
    "model.eval()\n",
    "print()"
   ],
   "outputs": [
    {
     "output_type": "stream",
     "name": "stderr",
     "text": [
      "YOLOv8x summary (fused): 268 layers, 68200608 parameters, 0 gradients, 257.8 GFLOPs\n"
     ]
    },
    {
     "output_type": "stream",
     "name": "stdout",
     "text": [
      "\n"
     ]
    }
   ],
   "metadata": {}
  },
  {
   "cell_type": "code",
   "execution_count": 18,
   "source": [
    "print(profile_model(model))\n",
    "print(f'model size: {get_model_size(model)}')"
   ],
   "outputs": [
    {
     "output_type": "stream",
     "name": "stderr",
     "text": [
      "STAGE:2023-10-09 21:10:02 34666:1731361 ActivityProfilerController.cpp:311] Completed Stage: Warm Up\n"
     ]
    },
    {
     "output_type": "stream",
     "name": "stdout",
     "text": [
      "---------------------------------  ------------  ------------  ------------  ------------  ------------  ------------  ------------  ------------  ------------  \n",
      "                             Name    Self CPU %      Self CPU   CPU total %     CPU total  CPU time avg       CPU Mem  Self CPU Mem    # of Calls  Total KFLOPs  \n",
      "---------------------------------  ------------  ------------  ------------  ------------  ------------  ------------  ------------  ------------  ------------  \n",
      "                  model_inference        -7.45%  -60447.000us       100.00%     811.066ms     811.066ms           0 b     -81.30 Mb             1            --  \n",
      "---------------------------------  ------------  ------------  ------------  ------------  ------------  ------------  ------------  ------------  ------------  \n",
      "Self CPU time total: 811.066ms\n",
      "\n",
      "model size: 260.1646728515625\n"
     ]
    },
    {
     "output_type": "stream",
     "name": "stderr",
     "text": [
      "STAGE:2023-10-09 21:10:03 34666:1731361 ActivityProfilerController.cpp:317] Completed Stage: Collection\n",
      "STAGE:2023-10-09 21:10:03 34666:1731361 ActivityProfilerController.cpp:321] Completed Stage: Post Processing\n"
     ]
    }
   ],
   "metadata": {}
  },
  {
   "cell_type": "code",
   "execution_count": null,
   "source": [],
   "outputs": [],
   "metadata": {}
  }
 ],
 "metadata": {
  "kernelspec": {
   "display_name": "Python 3 (ipykernel)",
   "language": "python",
   "name": "python3"
  },
  "language_info": {
   "codemirror_mode": {
    "name": "ipython",
    "version": 3
   },
   "file_extension": ".py",
   "mimetype": "text/x-python",
   "name": "python",
   "nbconvert_exporter": "python",
   "pygments_lexer": "ipython3",
   "version": "3.8.0"
  }
 },
 "nbformat": 4,
 "nbformat_minor": 5
}