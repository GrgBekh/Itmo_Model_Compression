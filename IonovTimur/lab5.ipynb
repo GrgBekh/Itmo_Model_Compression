{
 "cells": [
  {
   "cell_type": "markdown",
   "id": "ef937dfd-91cf-484f-85c9-9b2d7b766a0b",
   "metadata": {},
   "source": [
    "## ДЗ 5:\n",
    "### Автоматическая компрессия моделей"
   ]
  },
  {
   "cell_type": "code",
   "execution_count": null,
   "id": "c9a26e76-de2b-4726-8935-b799eb04dd1b",
   "metadata": {},
   "outputs": [],
   "source": []
  }
 ],
 "metadata": {
  "kernelspec": {
   "display_name": "Python 3 (ipykernel)",
   "language": "python",
   "name": "python3"
  },
  "language_info": {
   "codemirror_mode": {
    "name": "ipython",
    "version": 3
   },
   "file_extension": ".py",
   "mimetype": "text/x-python",
   "name": "python",
   "nbconvert_exporter": "python",
   "pygments_lexer": "ipython3",
   "version": "3.8.0"
  }
 },
 "nbformat": 4,
 "nbformat_minor": 5
}
