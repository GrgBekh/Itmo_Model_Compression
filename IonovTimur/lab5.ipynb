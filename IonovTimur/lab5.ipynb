{
 "cells": [
  {
   "cell_type": "markdown",
   "id": "be01310a",
   "metadata": {},
   "source": [
    "## ДЗ 5:\n",
    "### Экспорт моделей в различные форматы OpenVino, ONNX"
   ]
  },
  {
   "cell_type": "code",
   "execution_count": 2,
   "id": "10059bc4",
   "metadata": {},
   "outputs": [],
   "source": [
    "import ultralytics\n",
    "from ultralytics import YOLO"
   ]
  },
  {
   "cell_type": "code",
   "execution_count": 3,
   "id": "869c62b4",
   "metadata": {},
   "outputs": [],
   "source": [
    "import torch\n",
    "import time\n",
    "import torch.quantization\n",
    "from torch import profiler\n",
    "from torch.profiler import profile, record_function, ProfilerActivity"
   ]
  },
  {
   "cell_type": "code",
   "execution_count": 4,
   "id": "8b0d8354",
   "metadata": {},
   "outputs": [],
   "source": [
    "from utils import get_model_size, profile_model"
   ]
  },
  {
   "cell_type": "code",
   "execution_count": 5,
   "id": "6f133172",
   "metadata": {},
   "outputs": [],
   "source": [
    "torch.seed = 42"
   ]
  },
  {
   "cell_type": "markdown",
   "id": "757bb745",
   "metadata": {},
   "source": [
    "### Исходная модель"
   ]
  },
  {
   "cell_type": "code",
   "execution_count": 6,
   "id": "a033c50b",
   "metadata": {},
   "outputs": [
    {
     "name": "stderr",
     "output_type": "stream",
     "text": [
      "[W NNPACK.cpp:64] Could not initialize NNPACK! Reason: Unsupported hardware.\n",
      "YOLOv8s summary (fused): 168 layers, 11156544 parameters, 0 gradients, 28.6 GFLOPs\n"
     ]
    },
    {
     "name": "stdout",
     "output_type": "stream",
     "text": [
      "\n"
     ]
    }
   ],
   "source": [
    "yolo = YOLO('yolov8s.pt')\n",
    "model = yolo.model\n",
    "model.fuse()\n",
    "model.eval()\n",
    "print()"
   ]
  },
  {
   "cell_type": "code",
   "execution_count": 7,
   "id": "fa1c5d8b",
   "metadata": {
    "scrolled": true
   },
   "outputs": [
    {
     "name": "stderr",
     "output_type": "stream",
     "text": [
      "STAGE:2023-10-16 19:06:10 20073:2172288 ActivityProfilerController.cpp:311] Completed Stage: Warm Up\n",
      "STAGE:2023-10-16 19:06:10 20073:2172288 ActivityProfilerController.cpp:317] Completed Stage: Collection\n",
      "STAGE:2023-10-16 19:06:10 20073:2172288 ActivityProfilerController.cpp:321] Completed Stage: Post Processing\n"
     ]
    },
    {
     "name": "stdout",
     "output_type": "stream",
     "text": [
      "---------------------------------  ------------  ------------  ------------  ------------  ------------  ------------  ------------  ------------  ------------  \n",
      "                             Name    Self CPU %      Self CPU   CPU total %     CPU total  CPU time avg       CPU Mem  Self CPU Mem    # of Calls  Total KFLOPs  \n",
      "---------------------------------  ------------  ------------  ------------  ------------  ------------  ------------  ------------  ------------  ------------  \n",
      "                  model_inference        -1.13%   -1315.000us       100.00%     116.299ms     116.299ms           0 b     -24.10 Mb             1            --  \n",
      "---------------------------------  ------------  ------------  ------------  ------------  ------------  ------------  ------------  ------------  ------------  \n",
      "Self CPU time total: 116.299ms\n",
      "\n",
      "model size: 42.558837890625\n"
     ]
    }
   ],
   "source": [
    "print(profile_model(model))\n",
    "print(f'model size: {get_model_size(model)}')"
   ]
  },
  {
   "cell_type": "markdown",
   "id": "5c01f085",
   "metadata": {},
   "source": [
    "### ONNX"
   ]
  },
  {
   "cell_type": "code",
   "execution_count": 8,
   "id": "bbd99745",
   "metadata": {},
   "outputs": [
    {
     "name": "stderr",
     "output_type": "stream",
     "text": [
      "Ultralytics YOLOv8.0.190 🚀 Python-3.8.0 torch-2.0.1 CPU (Apple M1 Pro)\n",
      "\n",
      "\u001b[34m\u001b[1mPyTorch:\u001b[0m starting from 'yolov8s.pt' with input shape (1, 3, 640, 640) BCHW and output shape(s) (1, 84, 8400) (21.5 MB)\n",
      "\n",
      "\u001b[34m\u001b[1mONNX:\u001b[0m starting export with onnx 1.14.1 opset 17...\n",
      "\u001b[34m\u001b[1mONNX:\u001b[0m export success ✅ 1.7s, saved as 'yolov8s.onnx' (42.8 MB)\n",
      "\n",
      "Export complete (5.6s)\n",
      "Results saved to \u001b[1m/Users/timur/Documents/itmo_master/1_term/model_compression/IonovTimur\u001b[0m\n",
      "Predict:         yolo predict task=detect model=yolov8s.onnx imgsz=640  \n",
      "Validate:        yolo val task=detect model=yolov8s.onnx imgsz=640 data=coco.yaml  \n",
      "Visualize:       https://netron.app\n"
     ]
    },
    {
     "name": "stdout",
     "output_type": "stream",
     "text": [
      "================ Diagnostic Run torch.onnx.export version 2.0.1 ================\n",
      "verbose: False, log level: Level.ERROR\n",
      "======================= 0 NONE 0 NOTE 0 WARNING 0 ERROR ========================\n",
      "\n"
     ]
    },
    {
     "data": {
      "text/plain": [
       "'yolov8s.onnx'"
      ]
     },
     "execution_count": 8,
     "metadata": {},
     "output_type": "execute_result"
    }
   ],
   "source": [
    "yolo.export(format='onnx')"
   ]
  },
  {
   "cell_type": "code",
   "execution_count": 9,
   "id": "e7c65239",
   "metadata": {},
   "outputs": [],
   "source": [
    "input_example = torch.randn(1, 3, 640, 640)"
   ]
  },
  {
   "cell_type": "code",
   "execution_count": 10,
   "id": "69045d36",
   "metadata": {},
   "outputs": [],
   "source": [
    "# pip insall onnxruntime"
   ]
  },
  {
   "cell_type": "code",
   "execution_count": 11,
   "id": "3509e717",
   "metadata": {},
   "outputs": [],
   "source": [
    "import onnxruntime as ort\n",
    "import numpy as np"
   ]
  },
  {
   "cell_type": "code",
   "execution_count": 12,
   "id": "3ae20dfd",
   "metadata": {},
   "outputs": [],
   "source": [
    "ort_sess = ort.InferenceSession('yolov8s.onnx')\n",
    "outputs = ort_sess.run(None, {'images': input_example.float().numpy()})"
   ]
  },
  {
   "cell_type": "code",
   "execution_count": 13,
   "id": "2b941dd7",
   "metadata": {},
   "outputs": [],
   "source": [
    "import time"
   ]
  },
  {
   "cell_type": "code",
   "execution_count": 14,
   "id": "be0f041c",
   "metadata": {},
   "outputs": [
    {
     "name": "stdout",
     "output_type": "stream",
     "text": [
      "0.18231797218322754\n"
     ]
    }
   ],
   "source": [
    "s = time.time()\n",
    "ort_sess.run(None, {'images': input_example.float().numpy()})\n",
    "print(time.time() - s)"
   ]
  },
  {
   "cell_type": "code",
   "execution_count": 15,
   "id": "645ccae3",
   "metadata": {},
   "outputs": [
    {
     "name": "stdout",
     "output_type": "stream",
     "text": [
      "0.7649898529052734\n"
     ]
    }
   ],
   "source": [
    "s = time.time()\n",
    "yolo.model(input_example)\n",
    "print(time.time() - s)"
   ]
  },
  {
   "cell_type": "markdown",
   "id": "09225a55-c4f0-4025-9651-7f387074465b",
   "metadata": {},
   "source": [
    "## OpenVino"
   ]
  },
  {
   "cell_type": "code",
   "execution_count": 16,
   "id": "b8a419e0-5aae-4790-bb2b-bd2eaaae571e",
   "metadata": {
    "scrolled": true
   },
   "outputs": [
    {
     "name": "stderr",
     "output_type": "stream",
     "text": [
      "Ultralytics YOLOv8.0.190 🚀 Python-3.8.0 torch-2.0.1 CPU (Apple M1 Pro)\n",
      "\n",
      "\u001b[34m\u001b[1mPyTorch:\u001b[0m starting from 'yolov8s.pt' with input shape (1, 3, 640, 640) BCHW and output shape(s) (1, 84, 8400) (21.5 MB)\n",
      "\n",
      "\u001b[34m\u001b[1mONNX:\u001b[0m starting export with onnx 1.14.1 opset 17...\n",
      "\u001b[34m\u001b[1mONNX:\u001b[0m export success ✅ 1.6s, saved as 'yolov8s.onnx' (42.8 MB)\n",
      "\u001b[31m\u001b[1mrequirements:\u001b[0m Ultralytics requirement ['openvino-dev>=2023.0'] not found, attempting AutoUpdate...\n"
     ]
    },
    {
     "name": "stdout",
     "output_type": "stream",
     "text": [
      "================ Diagnostic Run torch.onnx.export version 2.0.1 ================\n",
      "verbose: False, log level: Level.ERROR\n",
      "======================= 0 NONE 0 NOTE 0 WARNING 0 ERROR ========================\n",
      "\n"
     ]
    },
    {
     "name": "stderr",
     "output_type": "stream",
     "text": [
      "\n",
      "\u001b[1m[\u001b[0m\u001b[34;49mnotice\u001b[0m\u001b[1;39;49m]\u001b[0m\u001b[39;49m A new release of pip is available: \u001b[0m\u001b[31;49m23.2.1\u001b[0m\u001b[39;49m -> \u001b[0m\u001b[32;49m23.3\u001b[0m\n",
      "\u001b[1m[\u001b[0m\u001b[34;49mnotice\u001b[0m\u001b[1;39;49m]\u001b[0m\u001b[39;49m To update, run: \u001b[0m\u001b[32;49mpip install --upgrade pip\u001b[0m\n",
      "Collecting openvino-dev>=2023.0\n",
      "  Obtaining dependency information for openvino-dev>=2023.0 from https://files.pythonhosted.org/packages/86/65/76ce426ac1e1d7db560187440b307be10af108a92d28e3e1842e388989db/openvino_dev-2023.1.0-12185-py3-none-any.whl.metadata\n",
      "  Downloading openvino_dev-2023.1.0-12185-py3-none-any.whl.metadata (17 kB)\n",
      "Collecting addict>=2.4.0 (from openvino-dev>=2023.0)\n",
      "  Downloading addict-2.4.0-py3-none-any.whl (3.8 kB)\n",
      "Requirement already satisfied: defusedxml>=0.7.1 in /Users/timur/.pyenv/versions/3.8.0/lib/python3.8/site-packages (from openvino-dev>=2023.0) (0.7.1)\n",
      "Collecting jstyleson>=0.0.2 (from openvino-dev>=2023.0)\n",
      "  Downloading jstyleson-0.0.2.tar.gz (2.0 kB)\n",
      "  Preparing metadata (setup.py): started\n",
      "  Preparing metadata (setup.py): finished with status 'done'\n",
      "Requirement already satisfied: networkx<=3.1 in /Users/timur/.pyenv/versions/3.8.0/lib/python3.8/site-packages (from openvino-dev>=2023.0) (3.1)\n",
      "Requirement already satisfied: numpy>=1.16.6 in /Users/timur/.pyenv/versions/3.8.0/lib/python3.8/site-packages (from openvino-dev>=2023.0) (1.24.3)\n",
      "Requirement already satisfied: opencv-python in /Users/timur/.pyenv/versions/3.8.0/lib/python3.8/site-packages (from openvino-dev>=2023.0) (4.8.1.78)\n",
      "Collecting openvino-telemetry>=2022.1.0 (from openvino-dev>=2023.0)\n",
      "  Obtaining dependency information for openvino-telemetry>=2022.1.0 from https://files.pythonhosted.org/packages/18/7e/656e52224ef145abed0c92535c786181b933f87323fc88824e947f611119/openvino_telemetry-2023.2.0-py3-none-any.whl.metadata\n",
      "  Downloading openvino_telemetry-2023.2.0-py3-none-any.whl.metadata (2.3 kB)\n",
      "Requirement already satisfied: pillow>=8.1.2 in /Users/timur/.pyenv/versions/3.8.0/lib/python3.8/site-packages (from openvino-dev>=2023.0) (10.0.0)\n",
      "Requirement already satisfied: pyyaml>=5.4.1 in /Users/timur/.pyenv/versions/3.8.0/lib/python3.8/site-packages (from openvino-dev>=2023.0) (6.0.1)\n",
      "Requirement already satisfied: requests>=2.25.1 in /Users/timur/.pyenv/versions/3.8.0/lib/python3.8/site-packages (from openvino-dev>=2023.0) (2.31.0)\n",
      "Collecting texttable>=1.6.3 (from openvino-dev>=2023.0)\n",
      "  Obtaining dependency information for texttable>=1.6.3 from https://files.pythonhosted.org/packages/24/99/4772b8e00a136f3e01236de33b0efda31ee7077203ba5967fcc76da94d65/texttable-1.7.0-py2.py3-none-any.whl.metadata\n",
      "  Downloading texttable-1.7.0-py2.py3-none-any.whl.metadata (9.8 kB)\n",
      "Requirement already satisfied: tqdm>=4.54.1 in /Users/timur/.pyenv/versions/3.8.0/lib/python3.8/site-packages (from openvino-dev>=2023.0) (4.66.1)\n",
      "Collecting openvino==2023.1.0 (from openvino-dev>=2023.0)\n",
      "  Obtaining dependency information for openvino==2023.1.0 from https://files.pythonhosted.org/packages/30/dd/eadf94c50d3ad4f30b2e2f4c7eb50a592e401ae861ac833a517d99e27b9b/openvino-2023.1.0-12185-cp38-cp38-macosx_10_12_x86_64.whl.metadata\n",
      "  Downloading openvino-2023.1.0-12185-cp38-cp38-macosx_10_12_x86_64.whl.metadata (6.3 kB)\n",
      "Requirement already satisfied: scipy<1.11,>=1.8 in /Users/timur/.pyenv/versions/3.8.0/lib/python3.8/site-packages (from openvino-dev>=2023.0) (1.10.1)\n",
      "Requirement already satisfied: charset-normalizer<4,>=2 in /Users/timur/.pyenv/versions/3.8.0/lib/python3.8/site-packages (from requests>=2.25.1->openvino-dev>=2023.0) (3.3.0)\n",
      "Requirement already satisfied: idna<4,>=2.5 in /Users/timur/.pyenv/versions/3.8.0/lib/python3.8/site-packages (from requests>=2.25.1->openvino-dev>=2023.0) (2.10)\n",
      "Requirement already satisfied: urllib3<3,>=1.21.1 in /Users/timur/.pyenv/versions/3.8.0/lib/python3.8/site-packages (from requests>=2.25.1->openvino-dev>=2023.0) (1.26.4)\n",
      "Requirement already satisfied: certifi>=2017.4.17 in /Users/timur/.pyenv/versions/3.8.0/lib/python3.8/site-packages (from requests>=2.25.1->openvino-dev>=2023.0) (2020.12.5)\n",
      "Downloading openvino_dev-2023.1.0-12185-py3-none-any.whl (5.8 MB)\n",
      "\u001b[2K   \u001b[38;2;114;156;31m━━━━━━━━━━━━━━━━━━━━━━━━━━━━━━━━━━━━━━━━\u001b[0m \u001b[32m5.8/5.8 MB\u001b[0m \u001b[31m191.7 kB/s\u001b[0m eta \u001b[36m0:00:00\u001b[0mm eta \u001b[36m0:00:01\u001b[0m[36m0:00:01\u001b[0m\n",
      "\u001b[?25hDownloading openvino-2023.1.0-12185-cp38-cp38-macosx_10_12_x86_64.whl (29.5 MB)\n",
      "\u001b[2K   \u001b[38;2;114;156;31m━━━━━━━━━━━━━━━━━━━━━━━━━━━━━━━━━━━━━━━━\u001b[0m \u001b[32m29.5/29.5 MB\u001b[0m \u001b[31m1.6 MB/s\u001b[0m eta \u001b[36m0:00:00\u001b[0mm eta \u001b[36m0:00:01\u001b[0m[36m0:00:01\u001b[0m0m\n",
      "\u001b[?25hDownloading openvino_telemetry-2023.2.0-py3-none-any.whl (22 kB)\n",
      "Downloading texttable-1.7.0-py2.py3-none-any.whl (10 kB)\n",
      "Building wheels for collected packages: jstyleson\n",
      "  Building wheel for jstyleson (setup.py): started\n",
      "  Building wheel for jstyleson (setup.py): finished with status 'done'\n",
      "  Created wheel for jstyleson: filename=jstyleson-0.0.2-py3-none-any.whl size=2401 sha256=e1939c08332d15f1c0f9a7c0a97597e72542476322576d52d4ccd20368d01bdb\n",
      "  Stored in directory: /private/var/folders/jq/snmzydvn60x9yz78t64j0__m0000gn/T/pip-ephem-wheel-cache-mtkxu6ch/wheels/c6/3a/8e/dad087c08bb0e4c94d03433ccc0972ee29707dff8e6c5f5e1b\n",
      "Successfully built jstyleson\n",
      "Installing collected packages: texttable, openvino-telemetry, jstyleson, addict, openvino, openvino-dev\n",
      "Successfully installed addict-2.4.0 jstyleson-0.0.2 openvino-2023.1.0 openvino-dev-2023.1.0 openvino-telemetry-2023.2.0 texttable-1.7.0\n",
      "\n",
      "\u001b[31m\u001b[1mrequirements:\u001b[0m AutoUpdate success ✅ 106.6s, installed 1 package: ['openvino-dev>=2023.0']\n",
      "\u001b[31m\u001b[1mrequirements:\u001b[0m ⚠️ \u001b[1mRestart runtime or rerun command for updates to take effect\u001b[0m\n",
      "\n",
      "\n",
      "\u001b[34m\u001b[1mOpenVINO:\u001b[0m starting export with openvino 2023.1.0-12185-9e6b00e51cd-releases/2023/1...\n",
      "\u001b[34m\u001b[1mOpenVINO:\u001b[0m export success ✅ 113.3s, saved as 'yolov8s_openvino_model/' (42.9 MB)\n",
      "\n",
      "Export complete (117.8s)\n",
      "Results saved to \u001b[1m/Users/timur/Documents/itmo_master/1_term/model_compression/IonovTimur\u001b[0m\n",
      "Predict:         yolo predict task=detect model=yolov8s_openvino_model imgsz=640  \n",
      "Validate:        yolo val task=detect model=yolov8s_openvino_model imgsz=640 data=coco.yaml  \n",
      "Visualize:       https://netron.app\n"
     ]
    },
    {
     "data": {
      "text/plain": [
       "'yolov8s_openvino_model'"
      ]
     },
     "execution_count": 16,
     "metadata": {},
     "output_type": "execute_result"
    }
   ],
   "source": [
    "yolo.export(format='openvino')"
   ]
  },
  {
   "cell_type": "code",
   "execution_count": 17,
   "id": "d9d03137-dcf6-4c5f-aa7c-dc533fac5a08",
   "metadata": {},
   "outputs": [
    {
     "name": "stderr",
     "output_type": "stream",
     "text": [
      "/var/folders/jq/snmzydvn60x9yz78t64j0__m0000gn/T/ipykernel_20073/2158470354.py:1: FutureWarning: OpenVINO Inference Engine Python API is deprecated and will be removed in 2024.0 release.For instructions on transitioning to the new API, please refer to https://docs.openvino.ai/latest/openvino_2_0_transition_guide.html\n",
      "  from openvino.inference_engine import IECore\n"
     ]
    }
   ],
   "source": [
    "from openvino.inference_engine import IECore"
   ]
  },
  {
   "cell_type": "code",
   "execution_count": 18,
   "id": "9cd9274b-0eba-4c8b-8374-05b026a9fe8c",
   "metadata": {},
   "outputs": [],
   "source": [
    "ie = IECore()\n",
    "net = ie.read_network(model=\"yolov8s_openvino_model/yolov8s.xml\", weights=\"yolov8s_openvino_model/yolov8s.bin\")\n",
    "exec_net = ie.load_network(network=net, device_name=\"CPU\")\n",
    "\n",
    "input_blob = next(iter(net.input_info))\n",
    "out_blob = next(iter(net.outputs))"
   ]
  },
  {
   "cell_type": "code",
   "execution_count": 19,
   "id": "26f9f666-23e6-4954-b7ba-7df6a7f279c9",
   "metadata": {},
   "outputs": [
    {
     "name": "stdout",
     "output_type": "stream",
     "text": [
      "0.28099513053894043\n"
     ]
    }
   ],
   "source": [
    "s = time.time()\n",
    "exec_net.infer(inputs={input_blob: input_example})\n",
    "print(time.time() - s)"
   ]
  },
  {
   "cell_type": "code",
   "execution_count": null,
   "id": "8ae69927",
   "metadata": {},
   "outputs": [],
   "source": [
    "{DET_MODEL_NAME}_openvino_model/{DET_MODEL_NAME}.xml\"\n",
    "if not det_model_path.exists():\n",
    "    det_model.export(format=\"openvino\", dynamic=True, half=False)"
   ]
  }
 ],
 "metadata": {
  "kernelspec": {
   "display_name": "Python 3 (ipykernel)",
   "language": "python",
   "name": "python3"
  },
  "language_info": {
   "codemirror_mode": {
    "name": "ipython",
    "version": 3
   },
   "file_extension": ".py",
   "mimetype": "text/x-python",
   "name": "python",
   "nbconvert_exporter": "python",
   "pygments_lexer": "ipython3",
   "version": "3.8.0"
  }
 },
 "nbformat": 4,
 "nbformat_minor": 5
}
